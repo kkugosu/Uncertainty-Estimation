{
 "cells": [
  {
   "cell_type": "code",
   "execution_count": 15,
   "id": "a41990fa",
   "metadata": {},
   "outputs": [
    {
     "name": "stdout",
     "output_type": "stream",
     "text": [
      "device cpu\n"
     ]
    }
   ],
   "source": [
    "import torch\n",
    "import torchvision.datasets as dsets\n",
    "import torchvision.transforms as transforms\n",
    "from torch.utils.data import DataLoader\n",
    "import torch.nn as nn\n",
    "import matplotlib.pyplot as plt\n",
    "import random\n",
    "USE_CUDA = torch.cuda.is_available() \n",
    "device = torch.device(\"cuda\" if USE_CUDA else \"cpu\") \n",
    "print(\"device\", device)"
   ]
  },
  {
   "cell_type": "code",
   "execution_count": 16,
   "id": "a88dd644",
   "metadata": {},
   "outputs": [],
   "source": [
    "class bnn(nn.Module):\n",
    "    def __init__(self):\n",
    "        super().__init__()\n",
    "        self.hidden_size = 10\n",
    "        self.relu = nn.ReLU()\n",
    "        \n",
    "        self.w1 = nn.Parameter(\n",
    "            torch.zeros(2, self.hidden_size, dtype = torch.float32, requires_grad=True)\n",
    "        )\n",
    "        self.b = nn.Parameter(\n",
    "            torch.zeros(self.hidden_size, dtype = torch.float32,requires_grad=True)\n",
    "        )\n",
    "        self.w2 = nn.Parameter(\n",
    "            torch.zeros(self.hidden_size, 1, dtype = torch.float32, requires_grad=True)\n",
    "        )\n",
    "        \n",
    "        \n",
    "    def rep(self, mu):\n",
    "        return mu + torch.randn_like(mu)\n",
    "\n",
    "    def forward(self, x, batch_size):\n",
    "        b = self.rep(self.b)\n",
    "        w1 = self.rep(self.w1)\n",
    "        w2 = self.rep(self.w2)\n",
    "        b = b.expand(batch_size, self.hidden_size)\n",
    "        x = torch.matmul(x, w1) + b\n",
    "        x = self.relu(x)\n",
    "        x = torch.matmul(x, w2)\n",
    "        return x, w1, w2, b\n",
    "    \n",
    "    def kldloss(self, w1, w2, b):\n",
    "        sum1 = torch.sum(torch.square(self.w1 - w1))\n",
    "        sum2 = torch.sum(torch.square(self.w2 - w2))\n",
    "        sum3 = torch.sum(torch.square(self.b - b))\n",
    "        return sum1 + sum2 + sum3\n",
    "    \n",
    "mybnn = bnn()\n",
    "\n"
   ]
  },
  {
   "cell_type": "code",
   "execution_count": 17,
   "id": "19a16dc4",
   "metadata": {},
   "outputs": [],
   "source": [
    "tmp_data = torch.tensor([[-1., 3., 5], [-2, 2, 5], [-0.5, 2, 4], \n",
    "                         [-0.5, 1.5, 3], [0.5, 1, 1], [1, 1, -1],\n",
    "                         [2, 2, -3], [3, 2, -4], [4, 4, -5],\n",
    "                         [5, 4, -4], [5, 5, -3], [6, 4, -2],\n",
    "                         [7, 4, -1], [8, 3, 0], [8, 4, 1],\n",
    "                         [9, 3, 3], [9, 1, 5], [10, 2, 6]])\n",
    "batch_size = 3\n",
    "hidden_size = 10\n",
    "\n",
    "w1 = torch.zeros(2, hidden_size)\n",
    "b = torch.zeros(hidden_size)\n",
    "w2 = torch.zeros(hidden_size, 1)\n",
    "\n"
   ]
  },
  {
   "cell_type": "code",
   "execution_count": 18,
   "id": "fbd11e8d",
   "metadata": {},
   "outputs": [],
   "source": [
    "train_dataloader = DataLoader(tmp_data, batch_size=3, shuffle=True)\n",
    "train_data = next(iter(train_dataloader))\n",
    "newdata = torch.split(train_data, 2, dim = 1)"
   ]
  },
  {
   "cell_type": "code",
   "execution_count": 19,
   "id": "b31589be",
   "metadata": {
    "scrolled": true
   },
   "outputs": [
    {
     "data": {
      "text/plain": [
       "(tensor([[10.,  2.],\n",
       "         [ 9.,  1.],\n",
       "         [ 5.,  5.]]),\n",
       " tensor([[ 6.],\n",
       "         [ 5.],\n",
       "         [-3.]]))"
      ]
     },
     "execution_count": 19,
     "metadata": {},
     "output_type": "execute_result"
    }
   ],
   "source": [
    "newdata"
   ]
  },
  {
   "cell_type": "code",
   "execution_count": 20,
   "id": "3e73fa43",
   "metadata": {},
   "outputs": [
    {
     "name": "stdout",
     "output_type": "stream",
     "text": [
      "tensor([-0.6540,  0.7314, -0.0494, -0.4802,  1.2157, -1.3035, -0.8805,  0.0429,\n",
      "         0.5185,  0.1716], grad_fn=<AddBackward0>)\n",
      "tensor([[ 1.4855, -0.3585,  0.1545,  1.8445,  0.6466,  0.2432, -1.2480, -0.9764,\n",
      "         -0.3140,  1.1787],\n",
      "        [ 0.7085,  0.2284,  0.3278,  0.5273, -0.1377,  0.3444, -0.3726,  0.1899,\n",
      "          1.6828, -0.6465]], grad_fn=<AddBackward0>)\n",
      "tensor([[-0.3299],\n",
      "        [ 0.3854],\n",
      "        [-1.5208],\n",
      "        [-0.3533],\n",
      "        [ 1.0492],\n",
      "        [-0.7111],\n",
      "        [ 0.5599],\n",
      "        [ 1.0655],\n",
      "        [ 0.1236],\n",
      "        [ 1.5977]], grad_fn=<AddBackward0>)\n"
     ]
    }
   ],
   "source": [
    "output = mybnn(newdata[0],batch_size)\n",
    "likelihood = torch.sum(torch.square(newdata[1] - output[0]))\n",
    "loss = likelihood + mybnn.kldloss(w1,w2,b)"
   ]
  },
  {
   "cell_type": "code",
   "execution_count": 21,
   "id": "2211b9b5",
   "metadata": {
    "scrolled": true
   },
   "outputs": [],
   "source": [
    "optimizer = torch.optim.SGD(mybnn.parameters(), lr=0.01)\n"
   ]
  },
  {
   "cell_type": "code",
   "execution_count": 22,
   "id": "90016043",
   "metadata": {
    "scrolled": true
   },
   "outputs": [
    {
     "name": "stdout",
     "output_type": "stream",
     "text": [
      "tensor(28.2256, grad_fn=<AddBackward0>)\n"
     ]
    }
   ],
   "source": [
    "optimizer.zero_grad()\n",
    "loss.backward()\n",
    "optimizer.step()\n",
    "print(loss)"
   ]
  },
  {
   "cell_type": "code",
   "execution_count": 23,
   "id": "5675c2d6",
   "metadata": {},
   "outputs": [
    {
     "data": {
      "text/plain": [
       "Parameter containing:\n",
       "tensor([[  44.9442,   -0.8978,  207.1793,   48.1342, -142.9255,   96.8720,\n",
       "            0.0000,    0.0000,   -6.3796, -217.6474],\n",
       "        [   7.1222,   -0.8978,   32.8311,    7.6277,  -22.6490,   15.3510,\n",
       "            0.0000,    0.0000,   -1.5063,  -34.4899]], requires_grad=True)"
      ]
     },
     "execution_count": 23,
     "metadata": {},
     "output_type": "execute_result"
    }
   ],
   "source": [
    "mybnn.w1"
   ]
  },
  {
   "cell_type": "code",
   "execution_count": 24,
   "id": "216b1292",
   "metadata": {},
   "outputs": [
    {
     "data": {
      "text/plain": [
       "Parameter containing:\n",
       "tensor([  4.8815,  -0.1796,  22.5021,   5.2279, -15.5234,  10.5215,   0.0000,\n",
       "          0.0000,  -0.6668, -23.6391], requires_grad=True)"
      ]
     },
     "execution_count": 24,
     "metadata": {},
     "output_type": "execute_result"
    }
   ],
   "source": [
    "mybnn.b"
   ]
  },
  {
   "cell_type": "code",
   "execution_count": 25,
   "id": "fb499579",
   "metadata": {},
   "outputs": [
    {
     "data": {
      "text/plain": [
       "Parameter containing:\n",
       "tensor([[-2.0799e+02],\n",
       "        [-3.7866e-02],\n",
       "        [-2.7396e+01],\n",
       "        [-2.5556e+02],\n",
       "        [-1.0310e+02],\n",
       "        [-2.1282e+01],\n",
       "        [ 0.0000e+00],\n",
       "        [ 0.0000e+00],\n",
       "        [-7.0985e+00],\n",
       "        [-1.4915e+02]], requires_grad=True)"
      ]
     },
     "execution_count": 25,
     "metadata": {},
     "output_type": "execute_result"
    }
   ],
   "source": [
    "mybnn.w2"
   ]
  },
  {
   "cell_type": "code",
   "execution_count": null,
   "id": "70d71ba1",
   "metadata": {},
   "outputs": [],
   "source": []
  }
 ],
 "metadata": {
  "kernelspec": {
   "display_name": "Python 3 (ipykernel)",
   "language": "python",
   "name": "python3"
  },
  "language_info": {
   "codemirror_mode": {
    "name": "ipython",
    "version": 3
   },
   "file_extension": ".py",
   "mimetype": "text/x-python",
   "name": "python",
   "nbconvert_exporter": "python",
   "pygments_lexer": "ipython3",
   "version": "3.8.11"
  }
 },
 "nbformat": 4,
 "nbformat_minor": 5
}
