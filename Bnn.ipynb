{
 "cells": [
  {
   "cell_type": "code",
   "execution_count": 29,
   "id": "3ef893a3",
   "metadata": {},
   "outputs": [
    {
     "name": "stdout",
     "output_type": "stream",
     "text": [
      "device cpu\n"
     ]
    }
   ],
   "source": [
    "import torch\n",
    "from torch.utils.data import DataLoader\n",
    "import torch.nn as nn\n",
    "import random\n",
    "import matplotlib.pyplot as plt\n",
    "import numpy as np\n",
    "USE_CUDA = torch.cuda.is_available() \n",
    "device = torch.device(\"cuda\" if USE_CUDA else \"cpu\") \n",
    "print(\"device\", device)\n",
    "batch_size = 18\n",
    "hidden_size = 10\n",
    "input_size = 2\n",
    "output_size = 1\n",
    "\n",
    "class Custom_Activation_F:\n",
    "    \n",
    "    def __init__(self, rate = 1):\n",
    "        self.rate = rate\n",
    "        \n",
    "    def logact(a):\n",
    "        '''\n",
    "        logistic activation function\n",
    "        '''\n",
    "        i = 0\n",
    "        while i < len(a):\n",
    "            j = 0\n",
    "            while j < len(a[i]):\n",
    "                if a[i][j] > 0:\n",
    "                    a[i][j] = torch.log(a[i][j] + self.rate)\n",
    "                else:\n",
    "                    a[i][j] = - torch.log(self.rate - a[i][j])\n",
    "                j = j + 1\n",
    "            i = i + 1\n",
    "        return a\n",
    "    \n",
    "def logact(a):\n",
    "    '''\n",
    "    logistic activation function\n",
    "    '''\n",
    "    i = 0\n",
    "    while i < len(a):\n",
    "        j = 0\n",
    "        while j < len(a[i]):\n",
    "            if a[i][j] > 0:\n",
    "                a[i][j] = torch.log(a[i][j] + 1)\n",
    "            else:\n",
    "                a[i][j] = - torch.log(1 - a[i][j])\n",
    "            j = j + 1\n",
    "        i = i + 1\n",
    "    return a"
   ]
  },
  {
   "cell_type": "code",
   "execution_count": 24,
   "id": "b5573953",
   "metadata": {},
   "outputs": [],
   "source": []
  },
  {
   "cell_type": "code",
   "execution_count": 2,
   "id": "b1e30de0",
   "metadata": {},
   "outputs": [],
   "source": [
    "class bnn(nn.Module):\n",
    "    def __init__(self, input_size, hidden_size, output_size):\n",
    "        super().__init__()\n",
    "        self.hidden_size = hidden_size\n",
    "        self.batch_size = 1\n",
    "        self.tanh = nn.Tanh()\n",
    "        self.lrelu = nn.LeakyReLU(0.1)\n",
    "        \n",
    "        self.w1 = nn.Parameter(\n",
    "            torch.zeros(input_size, self.hidden_size, dtype = torch.float32, requires_grad=True)\n",
    "        )\n",
    "        self.b = nn.Parameter(\n",
    "            torch.zeros(self.hidden_size, dtype = torch.float32,requires_grad=True)\n",
    "        )\n",
    "        self.w2 = nn.Parameter(\n",
    "            torch.zeros(self.hidden_size, output_size, dtype = torch.float32, requires_grad=True)\n",
    "        )\n",
    "        \n",
    "        self.w1_prior = torch.zeros(input_size, hidden_size)\n",
    "        self.b_prior = torch.zeros(hidden_size)\n",
    "        self.w2_prior = torch.zeros(hidden_size, output_size)\n",
    "        \n",
    "    def _rep(self, mu):\n",
    "        return mu + torch.randn_like(mu)*0.1\n",
    "    \n",
    "    def _update_prior(self, w1, w2, b, rate = 0.1):\n",
    "        self.w1_prior = w1.clone().detach()*rate + self.w1_prior*(1-rate)\n",
    "        self.w2_prior = w2.clone().detach()*rate + self.w2_prior*(1-rate)\n",
    "        self.b_prior = b.clone().detach()*rate + self.b_prior*(1-rate)\n",
    "        \n",
    "    def _kldloss(self):\n",
    "        sum1 = torch.sum(torch.square(self.w1 - self.w1_prior))\n",
    "        sum2 = torch.sum(torch.square(self.w2 - self.w2_prior))\n",
    "        sum3 = torch.sum(torch.square(self.b - self.b_prior))\n",
    "        return sum1 + sum2 + sum3\n",
    "    \n",
    "    def forward(self, x, batch_size, rate):\n",
    "        self.batch_size = batch_size\n",
    "        b = self._rep(self.b)\n",
    "        w1 = self._rep(self.w1)\n",
    "        w2 = self._rep(self.w2)\n",
    "        b = b.expand(self.batch_size, self.hidden_size)\n",
    "        x = torch.matmul(x, w1) + b\n",
    "        x = logact(x)\n",
    "        x = torch.matmul(x, w2)\n",
    "        self._update_prior(self.w1_prior, self.w2_prior, self.b_prior, rate)\n",
    "        #if we want to move prior, we can just subtract _prior term at the upper line\n",
    "        return x\n",
    "    \n",
    "    def bayesian_loss(self, target, output, data_num):\n",
    "        \n",
    "        likelihood = torch.sum(torch.square(target - output))\n",
    "        return likelihood + (self.batch_size/data_num) * self._kldloss()\n",
    "        \n"
   ]
  },
  {
   "cell_type": "code",
   "execution_count": 3,
   "id": "7dbfa975",
   "metadata": {},
   "outputs": [],
   "source": [
    "tmp_data = torch.tensor([[-1., 3., 5], [-2, 2, 5], [-0.5, 2, 4], \n",
    "                         [-0.5, 1.5, 3], [0.5, 1, 1], [1, 1, -1],\n",
    "                         [2, 2, -3], [3, 2, -4], [4, 4, -5],\n",
    "                         [5, 4, -4], [5, 5, -3], [6, 4, -2],\n",
    "                         [7, 4, -1], [8, 3, 0], [8, 4, 1],\n",
    "                         [9, 3, 3], [9, 1, 5], [10, 2, 6]])\n",
    "\n",
    "\n",
    "\n",
    "#we have to save posterior to prior w1, w2, b"
   ]
  },
  {
   "cell_type": "code",
   "execution_count": 4,
   "id": "0982808d",
   "metadata": {},
   "outputs": [],
   "source": [
    "mybnn = bnn(input_size, hidden_size, output_size)\n",
    "train_dataloader = DataLoader(tmp_data, batch_size=batch_size, shuffle=True)\n",
    "optimizer = torch.optim.SGD(mybnn.parameters(), lr=0.001)\n"
   ]
  },
  {
   "cell_type": "code",
   "execution_count": 18,
   "id": "63003ce0",
   "metadata": {},
   "outputs": [
    {
     "name": "stdout",
     "output_type": "stream",
     "text": [
      "tensor(102.5020, grad_fn=<AddBackward0>)\n"
     ]
    }
   ],
   "source": [
    "i = 0\n",
    "while i < 100:\n",
    "    train_data = next(iter(train_dataloader))\n",
    "    input_data, target = torch.split(train_data, [input_size, output_size], dim = 1)\n",
    "    output = mybnn(input_data, batch_size, rate = 0.01)\n",
    "    loss = mybnn.bayesian_loss(target, output, reg = 1)\n",
    "    optimizer.zero_grad()\n",
    "    loss.backward()\n",
    "    optimizer.step()\n",
    "    if i % 100 == 0:\n",
    "        print(loss)\n",
    "    i = i + 1"
   ]
  },
  {
   "cell_type": "code",
   "execution_count": 19,
   "id": "218ffec5",
   "metadata": {},
   "outputs": [
    {
     "name": "stderr",
     "output_type": "stream",
     "text": [
      "/var/folders/8_/4r7bgqsn54q6km29ph3gjqwc0000gn/T/ipykernel_19261/649124158.py:11: UserWarning: To copy construct from a tensor, it is recommended to use sourceTensor.clone().detach() or sourceTensor.clone().detach().requires_grad_(True), rather than torch.tensor(sourceTensor).\n",
      "  Z9 = torch.tensor(z, requires_grad = False).numpy()\n",
      "No artists with labels found to put in legend.  Note that artists whose label start with an underscore are ignored when legend() is called with no argument.\n"
     ]
    },
    {
     "data": {
      "image/png": "[encoded data removed]",
      "text/plain": [
       "<Figure size 432x288 with 1 Axes>"
      ]
     },
     "metadata": {
      "needs_background": "light"
     },
     "output_type": "display_data"
    }
   ],
   "source": [
    "x = np.linspace(-30, 30, 100)\n",
    "y = np.linspace(4, 4, 100)\n",
    "newxy = np.concatenate((np.transpose([x]), np.transpose([y])), axis = 1)\n",
    "newxy = torch.tensor(newxy, dtype = torch.float32)\n",
    "newxy = torch.reshape(newxy,(100,2))\n",
    "\n",
    "\n",
    "i = 0\n",
    "while i<20:\n",
    "    z = mybnn(newxy,100,0.01)\n",
    "    Z9 = torch.tensor(z, requires_grad = False).numpy()\n",
    "    plt.scatter(x, Z9, color = 'purple', alpha = 0.2)\n",
    "    i = i + 1\n",
    "\n",
    "plt.legend()\n",
    "plt.show()"
   ]
  },
  {
   "cell_type": "code",
   "execution_count": 30,
   "id": "9cda6a3d",
   "metadata": {},
   "outputs": [],
   "source": [
    "class BayesianLinear(nn.Module):\n",
    "    \n",
    "    def __init__(self, i_s, o_s):\n",
    "        '''\n",
    "        i_s = input_size\n",
    "        o_s = output_size\n",
    "        \n",
    "        '''\n",
    "        super().__init__()\n",
    "        self.b_s = 1\n",
    "        self.i_s = i_s\n",
    "        self.o_s = o_s\n",
    "        self.tanh = nn.Tanh()\n",
    "        self.lrelu = nn.LeakyReLU(0.1)\n",
    "        \n",
    "        self.w = nn.Parameter(\n",
    "            torch.zeros(self.i_s, self.o_s, dtype = torch.float32, requires_grad=True)\n",
    "        )\n",
    "        self.b = nn.Parameter(\n",
    "            torch.zeros(self.o_s, dtype = torch.float32, requires_grad=True)\n",
    "        )\n",
    "        \n",
    "        self.w_prior = torch.zeros(self.i_s, self.o_s)\n",
    "        self.b_prior = torch.zeros(self.o_s)\n",
    "        \n",
    "    def _rep(self, mu):\n",
    "        return mu + torch.randn_like(mu)*0.1\n",
    "    \n",
    "    def _update_prior(self, w1, w2, b, rate = 0.1):\n",
    "        self.w_prior = w.clone().detach()*rate + self.w_prior*(1-rate)\n",
    "        self.b_prior = b.clone().detach()*rate + self.b_prior*(1-rate)\n",
    "        \n",
    "    def kldloss(self):\n",
    "        sum1 = torch.sum(torch.square(self.w - self.w_prior))\n",
    "        sum2 = torch.sum(torch.square(self.b - self.b_prior))\n",
    "        return sum1 + sum2\n",
    "    \n",
    "    def forward(self, x):\n",
    "        self.batch_size = len(x)\n",
    "        b = self._rep(self.b)\n",
    "        w = self._rep(self.w)\n",
    "        b = b.expand(self.b_s, self.o_s)\n",
    "        x = torch.matmul(x, w) + b\n",
    "        #self._update_prior(self.w1_prior, self.w2_prior, self.b_prior, rate)\n",
    "        #if we want to move prior, we can just subtract _prior term at the upper line\n",
    "        return x\n",
    "    "
   ]
  },
  {
   "cell_type": "code",
   "execution_count": 31,
   "id": "3110697e",
   "metadata": {},
   "outputs": [],
   "source": [
    "class Bayesian_Regress(nn.Module):\n",
    "    \n",
    "    def __init__(self, input_size, hidden_size, output_size):\n",
    "        super().__init__()\n",
    "        self.blinear1 = BayesianLinear(input_size, hidden_size)\n",
    "        self.blinear2 = BayesianLinear(hidden_size, hidden_size)\n",
    "        self.blinear3= BayesianLinear(hidden_size, output_size)\n",
    "        self.myact = Custom_Activation_F()\n",
    "    \n",
    "    def forward(self, x):\n",
    "        self.batch_size = len(x)\n",
    "        x = self.blinear1(x)\n",
    "        print(np.shape(x))\n",
    "        print(x)\n",
    "        x = logact(x)\n",
    "        x = self.blinear2(x)\n",
    "        x = self.myact.logact(x)\n",
    "        x = self.blinear3(x)\n",
    "        \n",
    "        #self._update_prior(self.w1_prior, self.w2_prior, self.b_prior, rate)\n",
    "        #if we want to move prior, we can just subtract _prior term at the upper line\n",
    "        return x\n",
    "    \n",
    "    def kld_loss(self):\n",
    "        \n",
    "        L1 = self.blinear1.kldloss()\n",
    "        L2 = self.blinear2.kldloss()\n",
    "        L3 = self.blinear3.kldloss()\n",
    "        \n",
    "        return (L1+L2+L3)"
   ]
  },
  {
   "cell_type": "code",
   "execution_count": 32,
   "id": "8a6e9973",
   "metadata": {},
   "outputs": [],
   "source": [
    "regressor = Bayesian_Regress(2, 10, 1)"
   ]
  },
  {
   "cell_type": "code",
   "execution_count": 33,
   "id": "c070f4e2",
   "metadata": {},
   "outputs": [],
   "source": [
    "tmp_data = torch.tensor([[-1., 3., 5], [-2, 2, 5], [-0.5, 2, 4], \n",
    "                         [-0.5, 1.5, 3], [0.5, 1, 1], [1, 1, -1],\n",
    "                         [2, 2, -3], [3, 2, -4], [4, 4, -5],\n",
    "                         [5, 4, -4], [5, 5, -3], [6, 4, -2],\n",
    "                         [7, 4, -1], [8, 3, 0], [8, 4, 1],\n",
    "                         [9, 3, 3], [9, 1, 5], [10, 2, 6]])\n",
    "\n",
    "\n",
    "loss = nn.MSELoss(reduction=sum)\n",
    "train_dataloader = DataLoader(tmp_data, batch_size=batch_size, shuffle=True)\n",
    "optimizer = torch.optim.SGD(regressor.parameters(), lr=0.001)\n",
    "\n"
   ]
  },
  {
   "cell_type": "code",
   "execution_count": 34,
   "id": "dd611d13",
   "metadata": {},
   "outputs": [
    {
     "name": "stdout",
     "output_type": "stream",
     "text": [
      "torch.Size([18, 10])\n",
      "tensor([[-0.1389, -0.6798,  0.5295, -1.1996,  1.1417, -1.4219,  0.9839, -0.4408,\n",
      "         -0.1337, -2.7082],\n",
      "        [-0.0626, -0.1891,  0.0508, -0.1846, -0.0500, -0.2090, -0.1139, -0.1059,\n",
      "         -0.1414, -0.0767],\n",
      "        [-0.1244, -0.6122,  0.2905, -0.6159,  0.0936, -0.9028,  0.0397, -0.5310,\n",
      "         -0.1895, -1.0074],\n",
      "        [-0.1332, -0.6460,  0.4778, -1.0816,  0.9640, -1.3002,  0.8225, -0.4325,\n",
      "         -0.1401, -2.3821],\n",
      "        [-0.0623, -0.2061, -0.0589,  0.1041, -0.6538,  0.0059, -0.6546, -0.2169,\n",
      "         -0.1811,  0.8088],\n",
      "        [-0.1358, -0.6799,  0.3939, -0.8519,  0.4491, -1.1461,  0.3626, -0.5477,\n",
      "         -0.1766, -1.6596],\n",
      "        [-0.0655, -0.2060,  0.0767, -0.2436,  0.0388, -0.2698, -0.0332, -0.1100,\n",
      "         -0.1382, -0.2398],\n",
      "        [-0.1301, -0.6461,  0.3422, -0.7339,  0.2714, -1.0244,  0.2012, -0.5393,\n",
      "         -0.1831, -1.3335],\n",
      "        [-0.1441, -0.7476,  0.3617, -0.7401,  0.1119, -1.1137,  0.0640, -0.6713,\n",
      "         -0.2067, -1.2632],\n",
      "        [-0.1472, -0.7476,  0.4973, -1.0878,  0.8045, -1.3895,  0.6854, -0.5644,\n",
      "         -0.1637, -2.3118],\n",
      "        [-0.0908, -0.3753,  0.1997, -0.4857,  0.2348, -0.6025,  0.1525, -0.2587,\n",
      "         -0.1488, -0.8218],\n",
      "        [-0.1110, -0.4767,  0.4905, -1.1873,  1.4606, -1.2433,  1.2581, -0.1769,\n",
      "         -0.0865, -2.8487],\n",
      "        [-0.1307, -0.6121,  0.5617, -1.3114,  1.4788, -1.4543,  1.2824, -0.3172,\n",
      "         -0.1036, -3.1046],\n",
      "        [-0.0851, -0.3414,  0.1479, -0.3677,  0.0571, -0.4808, -0.0089, -0.2504,\n",
      "         -0.1553, -0.4957],\n",
      "        [-0.0709, -0.2569,  0.0186, -0.0728, -0.3872, -0.1766, -0.4124, -0.2295,\n",
      "         -0.1714,  0.3196],\n",
      "        [-0.0639, -0.2061,  0.0089, -0.0697, -0.3075, -0.1320, -0.3439, -0.1635,\n",
      "         -0.1596,  0.2845],\n",
      "        [-0.0820, -0.3415,  0.0123, -0.0200, -0.6355, -0.2051, -0.6302, -0.3572,\n",
      "         -0.1982,  0.5529],\n",
      "        [-0.1415, -0.7137,  0.4456, -0.9698,  0.6268, -1.2678,  0.5240, -0.5561,\n",
      "         -0.1702, -1.9857]], grad_fn=<AddBackward0>)\n"
     ]
    },
    {
     "ename": "TypeError",
     "evalue": "logact() takes 1 positional argument but 2 were given",
     "output_type": "error",
     "traceback": [
      "\u001b[0;31m---------------------------------------------------------------------------\u001b[0m",
      "\u001b[0;31mTypeError\u001b[0m                                 Traceback (most recent call last)",
      "Input \u001b[0;32mIn [34]\u001b[0m, in \u001b[0;36m<cell line: 5>\u001b[0;34m()\u001b[0m\n\u001b[1;32m      6\u001b[0m train_data \u001b[38;5;241m=\u001b[39m \u001b[38;5;28mnext\u001b[39m(\u001b[38;5;28miter\u001b[39m(train_dataloader))\n\u001b[1;32m      7\u001b[0m input_data, target \u001b[38;5;241m=\u001b[39m torch\u001b[38;5;241m.\u001b[39msplit(train_data, [input_size, output_size], dim \u001b[38;5;241m=\u001b[39m \u001b[38;5;241m1\u001b[39m)\n\u001b[0;32m----> 8\u001b[0m output \u001b[38;5;241m=\u001b[39m \u001b[43mregressor\u001b[49m\u001b[43m(\u001b[49m\u001b[43minput_data\u001b[49m\u001b[43m)\u001b[49m\n\u001b[1;32m      9\u001b[0m total_loss \u001b[38;5;241m=\u001b[39m loss(output, target)\n\u001b[1;32m     10\u001b[0m total_loss \u001b[38;5;241m=\u001b[39m total_loss \u001b[38;5;241m+\u001b[39m regressor\u001b[38;5;241m.\u001b[39mkld_loss()\u001b[38;5;241m*\u001b[39m(batch_size\u001b[38;5;241m/\u001b[39mtotal_num)\n",
      "File \u001b[0;32m~/anaconda3/lib/python3.9/site-packages/torch/nn/modules/module.py:1110\u001b[0m, in \u001b[0;36mModule._call_impl\u001b[0;34m(self, *input, **kwargs)\u001b[0m\n\u001b[1;32m   1106\u001b[0m \u001b[38;5;66;03m# If we don't have any hooks, we want to skip the rest of the logic in\u001b[39;00m\n\u001b[1;32m   1107\u001b[0m \u001b[38;5;66;03m# this function, and just call forward.\u001b[39;00m\n\u001b[1;32m   1108\u001b[0m \u001b[38;5;28;01mif\u001b[39;00m \u001b[38;5;129;01mnot\u001b[39;00m (\u001b[38;5;28mself\u001b[39m\u001b[38;5;241m.\u001b[39m_backward_hooks \u001b[38;5;129;01mor\u001b[39;00m \u001b[38;5;28mself\u001b[39m\u001b[38;5;241m.\u001b[39m_forward_hooks \u001b[38;5;129;01mor\u001b[39;00m \u001b[38;5;28mself\u001b[39m\u001b[38;5;241m.\u001b[39m_forward_pre_hooks \u001b[38;5;129;01mor\u001b[39;00m _global_backward_hooks\n\u001b[1;32m   1109\u001b[0m         \u001b[38;5;129;01mor\u001b[39;00m _global_forward_hooks \u001b[38;5;129;01mor\u001b[39;00m _global_forward_pre_hooks):\n\u001b[0;32m-> 1110\u001b[0m     \u001b[38;5;28;01mreturn\u001b[39;00m \u001b[43mforward_call\u001b[49m\u001b[43m(\u001b[49m\u001b[38;5;241;43m*\u001b[39;49m\u001b[38;5;28;43minput\u001b[39;49m\u001b[43m,\u001b[49m\u001b[43m \u001b[49m\u001b[38;5;241;43m*\u001b[39;49m\u001b[38;5;241;43m*\u001b[39;49m\u001b[43mkwargs\u001b[49m\u001b[43m)\u001b[49m\n\u001b[1;32m   1111\u001b[0m \u001b[38;5;66;03m# Do not call functions when jit is used\u001b[39;00m\n\u001b[1;32m   1112\u001b[0m full_backward_hooks, non_full_backward_hooks \u001b[38;5;241m=\u001b[39m [], []\n",
      "Input \u001b[0;32mIn [31]\u001b[0m, in \u001b[0;36mBayesian_Regress.forward\u001b[0;34m(self, x)\u001b[0m\n\u001b[1;32m     15\u001b[0m x \u001b[38;5;241m=\u001b[39m logact(x)\n\u001b[1;32m     16\u001b[0m x \u001b[38;5;241m=\u001b[39m \u001b[38;5;28mself\u001b[39m\u001b[38;5;241m.\u001b[39mblinear2(x)\n\u001b[0;32m---> 17\u001b[0m x \u001b[38;5;241m=\u001b[39m \u001b[38;5;28;43mself\u001b[39;49m\u001b[38;5;241;43m.\u001b[39;49m\u001b[43mmyact\u001b[49m\u001b[38;5;241;43m.\u001b[39;49m\u001b[43mlogact\u001b[49m\u001b[43m(\u001b[49m\u001b[43mx\u001b[49m\u001b[43m)\u001b[49m\n\u001b[1;32m     18\u001b[0m x \u001b[38;5;241m=\u001b[39m \u001b[38;5;28mself\u001b[39m\u001b[38;5;241m.\u001b[39mblinear3(x)\n\u001b[1;32m     20\u001b[0m \u001b[38;5;66;03m#self._update_prior(self.w1_prior, self.w2_prior, self.b_prior, rate)\u001b[39;00m\n\u001b[1;32m     21\u001b[0m \u001b[38;5;66;03m#if we want to move prior, we can just subtract _prior term at the upper line\u001b[39;00m\n",
      "\u001b[0;31mTypeError\u001b[0m: logact() takes 1 positional argument but 2 were given"
     ]
    }
   ],
   "source": [
    "i = 0\n",
    "batch_size = 18\n",
    "total_num = 18\n",
    "\n",
    "while i < 100:\n",
    "    train_data = next(iter(train_dataloader))\n",
    "    input_data, target = torch.split(train_data, [input_size, output_size], dim = 1)\n",
    "    output = regressor(input_data)\n",
    "    total_loss = loss(output, target)\n",
    "    total_loss = total_loss + regressor.kld_loss()*(batch_size/total_num)\n",
    "    optimizer.zero_grad()\n",
    "    loss.backward()\n",
    "    optimizer.step()\n",
    "    if i % 100 == 0:\n",
    "        print(loss)\n",
    "    i = i + 1"
   ]
  },
  {
   "cell_type": "code",
   "execution_count": null,
   "id": "2a142bd1",
   "metadata": {},
   "outputs": [],
   "source": []
  }
 ],
 "metadata": {
  "kernelspec": {
   "display_name": "Python 3 (ipykernel)",
   "language": "python",
   "name": "python3"
  },
  "language_info": {
   "codemirror_mode": {
    "name": "ipython",
    "version": 3
   },
   "file_extension": ".py",
   "mimetype": "text/x-python",
   "name": "python",
   "nbconvert_exporter": "python",
   "pygments_lexer": "ipython3",
   "version": "3.9.12"
  }
 },
 "nbformat": 4,
 "nbformat_minor": 5
}
