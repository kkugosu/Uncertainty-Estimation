{
 "cells": [
  {
   "cell_type": "code",
   "execution_count": 1,
   "id": "0aed319c",
   "metadata": {},
   "outputs": [
    {
     "name": "stdout",
     "output_type": "stream",
     "text": [
      "device cpu\n"
     ]
    }
   ],
   "source": [
    "import torch\n",
    "from torch.utils.data import DataLoader\n",
    "import torch.nn as nn\n",
    "import random\n",
    "import matplotlib.pyplot as plt\n",
    "import numpy as np\n",
    "USE_CUDA = torch.cuda.is_available() \n",
    "device = torch.device(\"cuda\" if USE_CUDA else \"cpu\") \n",
    "print(\"device\", device)\n",
    "batch_size = 24\n",
    "hidden_size = 10\n",
    "input_size = 2\n",
    "output_size = 1\n",
    "\n",
    "class Custom_Activation_F:\n",
    "    \n",
    "    def __init__(self, rate = 1):\n",
    "        self.rate = rate\n",
    "        \n",
    "    def logact(self, a):\n",
    "        '''\n",
    "        logistic activation function\n",
    "        '''\n",
    "        i = 0\n",
    "        while i < len(a):\n",
    "            j = 0\n",
    "            while j < len(a[i]):\n",
    "                if a[i][j] > 0:\n",
    "                    a[i][j] = torch.log(a[i][j] + self.rate)\n",
    "                else:\n",
    "                    a[i][j] = - torch.log(self.rate - a[i][j])\n",
    "                j = j + 1\n",
    "            i = i + 1\n",
    "        return a\n",
    " "
   ]
  },
  {
   "cell_type": "code",
   "execution_count": 2,
   "id": "e2250330",
   "metadata": {},
   "outputs": [],
   "source": [
    "class BayesianLinear(nn.Module):\n",
    "    \n",
    "    def __init__(self, i_s, o_s):\n",
    "        '''\n",
    "        i_s = input_size\n",
    "        o_s = output_size\n",
    "        \n",
    "        '''\n",
    "        super().__init__()\n",
    "        self.i_s = i_s\n",
    "        self.o_s = o_s\n",
    "        self.b_s = 1\n",
    "        self.w = nn.Parameter(\n",
    "            torch.zeros(self.i_s, self.o_s, dtype = torch.float32, requires_grad=True)\n",
    "        )\n",
    "        self.b = nn.Parameter(\n",
    "            torch.zeros(self.o_s, dtype = torch.float32, requires_grad=True)\n",
    "        )\n",
    "        \n",
    "        self.w_prior = torch.zeros(self.i_s, self.o_s)\n",
    "        self.b_prior = torch.zeros(self.o_s)\n",
    "        \n",
    "    def _rep(self, mu):\n",
    "        return mu + torch.randn_like(mu)*0.1\n",
    "    \n",
    "    def _update_prior(self, w1, w2, b, rate = 0.1):\n",
    "        self.w_prior = w.clone().detach()*rate + self.w_prior*(1-rate)\n",
    "        self.b_prior = b.clone().detach()*rate + self.b_prior*(1-rate)\n",
    "        \n",
    "    def kldloss(self):\n",
    "        sum1 = torch.sum(torch.square(self.w - self.w_prior))\n",
    "        sum2 = torch.sum(torch.square(self.b - self.b_prior))\n",
    "        return sum1 + sum2\n",
    "    \n",
    "    def forward(self, x):\n",
    "        self.b_s = len(x)\n",
    "        b = self._rep(self.b)\n",
    "        w = self._rep(self.w)\n",
    "        b = b.expand(self.b_s, self.o_s)\n",
    "        x = torch.matmul(x, w) + b\n",
    "        #self._update_prior(self.w1_prior, self.w2_prior, self.b_prior, rate)\n",
    "        #if we want to move prior, we can just subtract _prior term at the upper line\n",
    "        return x\n",
    "    "
   ]
  },
  {
   "cell_type": "code",
   "execution_count": 3,
   "id": "41646298",
   "metadata": {},
   "outputs": [],
   "source": [
    "class Bayesian_Regress(nn.Module):\n",
    "    \n",
    "    def __init__(self, input_size, hidden_size, output_size):\n",
    "        super().__init__()\n",
    "        self.tanh = nn.Tanh()\n",
    "        self.lrelu = nn.LeakyReLU(0.1)\n",
    "        self.blinear1 = BayesianLinear(input_size, hidden_size)\n",
    "        self.blinear2 = BayesianLinear(hidden_size, hidden_size)\n",
    "        self.blinear3 = BayesianLinear(hidden_size, output_size)\n",
    "        self.myact = Custom_Activation_F()\n",
    "    \n",
    "    def forward(self, x):\n",
    "        x = self.blinear1(x)\n",
    "        x = self.myact.logact(x)\n",
    "        x = self.blinear2(x)\n",
    "        x = self.myact.logact(x)\n",
    "        x = self.blinear3(x)\n",
    "        \n",
    "        #self._update_prior(self.w1_prior, self.w2_prior, self.b_prior, rate)\n",
    "        #if we want to move prior, we can just subtract _prior term at the upper line\n",
    "        return x\n",
    "    \n",
    "    def kld_loss(self):\n",
    "        \n",
    "        L1 = self.blinear1.kldloss()\n",
    "        L2 = self.blinear2.kldloss()\n",
    "        L3 = self.blinear3.kldloss()\n",
    "        \n",
    "        return (L1+L2+L3)"
   ]
  },
  {
   "cell_type": "code",
   "execution_count": 4,
   "id": "0ce6964e",
   "metadata": {},
   "outputs": [],
   "source": [
    "regressor = Bayesian_Regress(2, 10, 1)"
   ]
  },
  {
   "cell_type": "code",
   "execution_count": 5,
   "id": "a17f9f92",
   "metadata": {},
   "outputs": [],
   "source": [
    "tmp_data = torch.tensor([[-1., 3., 5], [-2, 2, 5], [-0.5, 2, 4], \n",
    "                         [-0.5, 1.5, 3], [0.5, 1, 1], [1, 1, -1],\n",
    "                         [2, 2, -3], [3, 2, -4], [4, 4, -5],\n",
    "                         [5, 4, -4], [5, 5, -3], [6, 4, -2],\n",
    "                         [7, 4, -1], [8, 3, 0], [8, 4, 1],\n",
    "                         [9, 3, 3], [9, 1, 5], [10, 2, 6], \n",
    "                         [11, 3, 3], [13, 3, 1], [15, 1, -1], \n",
    "                         [-3, 1, 3], [40, 3, -5], [40, 3, -5]])\n",
    "\n",
    "\n",
    "\n",
    "train_dataloader = DataLoader(tmp_data, batch_size=batch_size, shuffle=True)\n",
    "optimizer = torch.optim.SGD(regressor.parameters(), lr=0.001)\n",
    "\n",
    "\n"
   ]
  },
  {
   "cell_type": "code",
   "execution_count": 6,
   "id": "1f146bb0",
   "metadata": {
    "scrolled": true
   },
   "outputs": [
    {
     "name": "stdout",
     "output_type": "stream",
     "text": [
      "tensor(296.0341, grad_fn=<AddBackward0>)\n",
      "tensor(244.6880, grad_fn=<AddBackward0>)\n",
      "tensor(227.0694, grad_fn=<AddBackward0>)\n",
      "tensor(223.1400, grad_fn=<AddBackward0>)\n",
      "tensor(220.8584, grad_fn=<AddBackward0>)\n",
      "tensor(176.3153, grad_fn=<AddBackward0>)\n",
      "tensor(154.4033, grad_fn=<AddBackward0>)\n",
      "tensor(123.1114, grad_fn=<AddBackward0>)\n",
      "tensor(113.6553, grad_fn=<AddBackward0>)\n",
      "tensor(131.7549, grad_fn=<AddBackward0>)\n"
     ]
    }
   ],
   "source": [
    "i = 0\n",
    "batch_size = 24\n",
    "total_num = 24\n",
    "\n",
    "while i < 1000:\n",
    "    train_data = next(iter(train_dataloader))\n",
    "    input_data, target = torch.split(train_data, [input_size, output_size], dim = 1)\n",
    "    output = regressor(input_data)\n",
    "    total_loss = (torch.sum(torch.square(target - output)) + \n",
    "                  regressor.kld_loss()*(1/total_num)\n",
    "                 )\n",
    "    optimizer.zero_grad()\n",
    "    total_loss.backward()\n",
    "    optimizer.step()\n",
    "    if i % 100 == 0:\n",
    "        print(total_loss)\n",
    "    i = i + 1"
   ]
  },
  {
   "cell_type": "code",
   "execution_count": 8,
   "id": "642106b2",
   "metadata": {},
   "outputs": [
    {
     "name": "stderr",
     "output_type": "stream",
     "text": [
      "/var/folders/8_/4r7bgqsn54q6km29ph3gjqwc0000gn/T/ipykernel_19857/34118948.py:11: UserWarning: To copy construct from a tensor, it is recommended to use sourceTensor.clone().detach() or sourceTensor.clone().detach().requires_grad_(True), rather than torch.tensor(sourceTensor).\n",
      "  Z9 = torch.tensor(z, requires_grad = False).numpy()\n",
      "No artists with labels found to put in legend.  Note that artists whose label start with an underscore are ignored when legend() is called with no argument.\n"
     ]
    },
    {
     "data": {
      "image/png": "[encoded data removed]",
      "text/plain": [
       "<Figure size 432x288 with 1 Axes>"
      ]
     },
     "metadata": {
      "needs_background": "light"
     },
     "output_type": "display_data"
    }
   ],
   "source": [
    "x = np.linspace(-30, 30, 100)\n",
    "y = np.linspace(3, 3, 100)\n",
    "newxy = np.concatenate((np.transpose([x]), np.transpose([y])), axis = 1)\n",
    "newxy = torch.tensor(newxy, dtype = torch.float32)\n",
    "newxy = torch.reshape(newxy,(100,2))\n",
    "\n",
    "\n",
    "i = 0\n",
    "while i<20:\n",
    "    z = regressor(newxy)\n",
    "    Z9 = torch.tensor(z, requires_grad = False).numpy()\n",
    "    plt.scatter(x, Z9, color = 'purple', alpha = 0.2)\n",
    "    i = i + 1\n",
    "\n",
    "plt.legend()\n",
    "plt.show()"
   ]
  },
  {
   "cell_type": "code",
   "execution_count": null,
   "id": "c9d68046",
   "metadata": {},
   "outputs": [],
   "source": []
  }
 ],
 "metadata": {
  "kernelspec": {
   "display_name": "Python 3 (ipykernel)",
   "language": "python",
   "name": "python3"
  },
  "language_info": {
   "codemirror_mode": {
    "name": "ipython",
    "version": 3
   },
   "file_extension": ".py",
   "mimetype": "text/x-python",
   "name": "python",
   "nbconvert_exporter": "python",
   "pygments_lexer": "ipython3",
   "version": "3.9.12"
  }
 },
 "nbformat": 4,
 "nbformat_minor": 5
}
